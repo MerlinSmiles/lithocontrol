{
 "metadata": {
  "kernelspec": {
   "codemirror_mode": {
    "name": "ipython",
    "version": 2
   },
   "display_name": "IPython (Python 2)",
   "language": "python",
   "name": "python2"
  },
  "name": "",
  "signature": "sha256:8d6d69f0af981135f0adac1bf1bdec054acf64d3bd8b905ae2cf1fe5bed23189"
 },
 "nbformat": 3,
 "nbformat_minor": 0,
 "worksheets": [
  {
   "cells": [
    {
     "cell_type": "code",
     "collapsed": false,
     "input": [
      "%load_ext autoreload\n",
      "%autoreload 2\n",
      "    \n",
      "# import sys\n",
      "# import os\n",
      "# import time\n",
      "import operator\n",
      "# import dxfgrabber\n",
      "# from collections import Counter\n",
      "import matplotlib.pyplot as plt\n",
      "%matplotlib inline\n",
      "import numpy as np\n",
      "# from scipy.interpolate import interp1d\n",
      "from source.helpers import *\n",
      "from source.dxf2shape import *\n",
      "filename = './dxfTest.dxf'\n"
     ],
     "language": "python",
     "metadata": {},
     "outputs": [
      {
       "output_type": "stream",
       "stream": "stdout",
       "text": [
        "The autoreload extension is already loaded. To reload it, use:\n",
        "  %reload_ext autoreload\n"
       ]
      }
     ],
     "prompt_number": 5
    },
    {
     "cell_type": "code",
     "collapsed": false,
     "input": [
      "class shape():\n",
      "    def __init__(self,entity):\n",
      "        self.entity = entity\n",
      "        self.closed = entity.is_closed\n",
      "        self.fill_angle = 0\n",
      "        self.fill_step = 0.01\n",
      "        self.layer = entity.layer\n",
      "        self.name = ''\n",
      "        self.threshold = 1e-9\n",
      "        self.voltage = 0\n",
      "        self.path_direction = 1\n",
      "        \n",
      "        self.make_path()\n",
      "    \n",
      "    def set_voltage(self, volt):\n",
      "        self.voltage = volt\n",
      "    def set_fill_step(self, step):\n",
      "        self.fill_step = step\n",
      "        self.make_path()\n",
      "    def set_fill_angle(self, angle):\n",
      "        self.fill_angle = angle\n",
      "        self.make_path()\n",
      "    def make_path(self):\n",
      "        self.path = dxf2shape(self.entity,\n",
      "                              threshold=self.threshold,\n",
      "                              fill_step = self.fill_step,\n",
      "                              fill_angle = self.fill_angle,\n",
      "                              path_direction = self.path_direction)\n",
      "        \n"
     ],
     "language": "python",
     "metadata": {},
     "outputs": [],
     "prompt_number": 6
    },
    {
     "cell_type": "code",
     "collapsed": false,
     "input": [
      "\n",
      "dxf = dxfgrabber.readfile(filename)\n",
      "shapes = []\n",
      "for i in dxf.entities:\n",
      "    if i.dxftype not in ['POLYLINE']:\n",
      "        continue\n",
      "#     print i.layer\n",
      "    i.is_closed = True\n",
      "    \n",
      "    shapes.append( shape(i) )\n",
      "#     collection = dxf2shape(i, fill_step = 0.01, fill_angle=np.random.random()*360)\n",
      "    \n",
      "colors = plt.cm.rainbow(np.linspace(0, 1, len(shapes)))\n",
      "# for y, c in zip(ys, colors):\n",
      "#     plt.scatter(x, y, color=c)\n"
     ],
     "language": "python",
     "metadata": {},
     "outputs": [],
     "prompt_number": 21
    },
    {
     "cell_type": "code",
     "collapsed": false,
     "input": [
      "fig = plt.figure(figsize=(13, 13))\n",
      "ax = fig.add_subplot(111)\n",
      "ax.set_aspect('equal')\n",
      "\n",
      "cmpfun= operator.attrgetter(\"layer\")\n",
      "shapes.sort(key=cmpfun, reverse=False) # sort in-place\n",
      "\n",
      "\n",
      "for col, c in zip(shapes, colors):\n",
      "    print col.layer\n",
      "    for j, npath in enumerate(col.path):\n",
      "        pt = npath.flatten()\n",
      "        CS = plt.plot(pt[::2],pt[1::2],'-',color=c)\n",
      "#         ax.annotate('p['+str(j)+']', xy=(pt[0], pt[1]),  xycoords='data',\n",
      "#                     xytext=(-50, 10), textcoords='offset points',\n",
      "#                     arrowprops=dict(arrowstyle=\"->\")\n",
      "#                     )\n"
     ],
     "language": "python",
     "metadata": {},
     "outputs": [
      {
       "output_type": "stream",
       "stream": "stdout",
       "text": [
        "0\n",
        "0\n",
        "LAYER1\n",
        "LAYER1\n",
        "LAYER1\n",
        "LAYER1\n",
        "LAYER1\n",
        "TEST\n",
        "TEST\n",
        "TEST\n",
        "TEST\n"
       ]
      },
      {
       "metadata": {},
       "output_type": "display_data",
       "png": "[encoded data removed]",
       "text": [
        "<matplotlib.figure.Figure at 0x1065d2d10>"
       ]
      }
     ],
     "prompt_number": 8
    },
    {
     "cell_type": "code",
     "collapsed": false,
     "input": [
      "i."
     ],
     "language": "python",
     "metadata": {},
     "outputs": [
      {
       "metadata": {},
       "output_type": "pyout",
       "prompt_number": 22,
       "text": [
        "<dxfgrabber.entities.Arc at 0x1065c8e10>"
       ]
      }
     ],
     "prompt_number": 22
    },
    {
     "cell_type": "code",
     "collapsed": false,
     "input": [
      "print shapes"
     ],
     "language": "python",
     "metadata": {},
     "outputs": [
      {
       "output_type": "stream",
       "stream": "stdout",
       "text": [
        "[<__main__.shape instance at 0x106599680>, <__main__.shape instance at 0x10656dd40>, <__main__.shape instance at 0x104eb4758>, <__main__.shape instance at 0x106eb2d88>, <__main__.shape instance at 0x106eb2c20>, <__main__.shape instance at 0x105811998>, <__main__.shape instance at 0x105811c68>, <__main__.shape instance at 0x1066cdc20>, <__main__.shape instance at 0x1065c0dd0>, <__main__.shape instance at 0x106eb2830>, <__main__.shape instance at 0x106570d88>]\n"
       ]
      }
     ],
     "prompt_number": 9
    },
    {
     "cell_type": "code",
     "collapsed": false,
     "input": [
      "data = dxf2shape(dxf.entities[2])[0]\n",
      "\n",
      "for j, npath in enumerate(data):\n",
      "    pt = data.flatten()\n",
      "#     print i[:,0]\n",
      "print data\n",
      "print pt[::2]\n"
     ],
     "language": "python",
     "metadata": {},
     "outputs": [
      {
       "output_type": "stream",
       "stream": "stdout",
       "text": [
        "[[[-0.32893352  0.81505044]\n",
        "  [-0.32893352  0.93413049]]\n",
        "\n",
        " [[-0.22893352  0.93413049]\n",
        "  [-0.22893352  0.81505044]]\n",
        "\n",
        " [[-0.12893352  0.81505044]\n",
        "  [-0.12893352  0.93413049]]\n",
        "\n",
        " [[-0.02893352  0.93413049]\n",
        "  [-0.02893352  0.81505044]]\n",
        "\n",
        " [[ 0.07106648  0.81505044]\n",
        "  [ 0.07106648  0.93413049]]\n",
        "\n",
        " [[ 0.17106648  0.93413049]\n",
        "  [ 0.17106648  0.81505044]]]\n",
        "[[[-0.32893352  0.81505044]\n",
        "  [-0.32893352  0.93413049]]\n",
        "\n",
        " [[-0.12893352  0.81505044]\n",
        "  [-0.12893352  0.93413049]]\n",
        "\n",
        " [[ 0.07106648  0.81505044]\n",
        "  [ 0.07106648  0.93413049]]]\n"
       ]
      }
     ],
     "prompt_number": 39
    },
    {
     "cell_type": "code",
     "collapsed": false,
     "input": [],
     "language": "python",
     "metadata": {},
     "outputs": [],
     "prompt_number": 109
    },
    {
     "cell_type": "code",
     "collapsed": false,
     "input": [],
     "language": "python",
     "metadata": {},
     "outputs": [],
     "prompt_number": 109
    },
    {
     "cell_type": "code",
     "collapsed": false,
     "input": [],
     "language": "python",
     "metadata": {},
     "outputs": [],
     "prompt_number": 0
    },
    {
     "cell_type": "code",
     "collapsed": false,
     "input": [
      "a = {'Name': 'Layer 0', 'Type': 'Layer'}"
     ],
     "language": "python",
     "metadata": {},
     "outputs": [],
     "prompt_number": 13
    },
    {
     "cell_type": "code",
     "collapsed": false,
     "input": [
      "for i in a:\n",
      "    print a[i]"
     ],
     "language": "python",
     "metadata": {},
     "outputs": [
      {
       "output_type": "stream",
       "stream": "stdout",
       "text": [
        "Layer\n",
        "Layer 0\n"
       ]
      }
     ],
     "prompt_number": 18
    },
    {
     "cell_type": "code",
     "collapsed": false,
     "input": [],
     "language": "python",
     "metadata": {},
     "outputs": [
      {
       "metadata": {},
       "output_type": "pyout",
       "prompt_number": 20,
       "text": [
        "'Name'"
       ]
      }
     ],
     "prompt_number": 20
    },
    {
     "cell_type": "code",
     "collapsed": false,
     "input": [],
     "language": "python",
     "metadata": {},
     "outputs": []
    }
   ],
   "metadata": {}
  }
 ]
}