{
 "metadata": {
  "kernelspec": {
   "codemirror_mode": {
    "name": "ipython",
    "version": 2
   },
   "display_name": "IPython (Python 2)",
   "language": "python",
   "name": "python2"
  },
  "name": "",
  "signature": "sha256:d424290d00008965e053477814534aed06206480a2f6528e042b906592da8a30"
 },
 "nbformat": 3,
 "nbformat_minor": 0,
 "worksheets": [
  {
   "cells": [
    {
     "cell_type": "code",
     "collapsed": false,
     "input": [
      "import sys\n",
      "import os\n",
      "import time\n",
      "import dxfgrabber\n",
      "from collections import Counter\n",
      "import matplotlib.pyplot as plt\n",
      "%matplotlib inline\n",
      "import numpy as np\n",
      "from scipy.interpolate import interp1d\n",
      "\n",
      "filename = '/Users/Merlin/Downloads/zigzag.dxf'"
     ],
     "language": "python",
     "metadata": {},
     "outputs": [],
     "prompt_number": 10
    },
    {
     "cell_type": "code",
     "collapsed": false,
     "input": [
      "\n",
      "def find_nearest(array,value):\n",
      "    idx = (np.abs(array-value)).argmin()\n",
      "    return np.where(array==array[idx])\n",
      "\n",
      "def distsq( a, b ):\n",
      "    return  (b[0] - a[0])**2 + (b[1] - a[1])**2\n",
      "def intersect( a1, a2, b1, b2):\n",
      "    def perp(u,v):\n",
      "        return u[0] * v[1] - u[1] * v[0]\n",
      "    aa1 = np.array(a1)\n",
      "    aa2 = np.array(a2)\n",
      "    bb1 = np.array(b1)\n",
      "    bb2 = np.array(b2)\n",
      "    u = aa1 - aa2\n",
      "    v = bb1 - bb2\n",
      "    w = aa1 - bb1\n",
      "    D = perp(u,v)\n",
      "\n",
      "    sI = perp(v,w) / D\n",
      "    pp  = aa1 + sI * u\n",
      "    \n",
      "    def samedist(pa, pb, pc):\n",
      "        td = distsq(pa, pb)\n",
      "        tp1 = distsq(pa, pc)\n",
      "        tp2 = distsq(pb, pc)\n",
      "\n",
      "        if tp1+tp2-td >= 1e-9:\n",
      "            return 0\n",
      "        return 1\n",
      "    \n",
      "    if samedist(aa1,aa2,pp) and samedist(bb1,bb2,pp):\n",
      "        return pp[0],pp[1]\n",
      "    return 0\n",
      "\n",
      "\n",
      "\n",
      "def coll(lines):\n",
      "    line_distance = 100\n",
      "    lines =  np.array(lines)\n",
      "\n",
      "    collection = []\n",
      "    path = []\n",
      "    for u in lines:\n",
      "        if len(path) == 0:\n",
      "            path.append(u[0])\n",
      "            path.append(u[1])\n",
      "        elif distsq(path[-1], u[0]) < distsq(path[-1], u[1]):\n",
      "            path.append(u[0])\n",
      "            path.append(u[1])\n",
      "        else:\n",
      "            path.append(u[1])\n",
      "            path.append(u[0])\n",
      "\n",
      "        if len(path) > 3:\n",
      "            if distsq(path[-2], path[-3]) > (3*line_distance):\n",
      "\n",
      "    #             print find_nearest(lines[:,0][:,1],path[-1][1])[0]\n",
      "    #             print find_nearest(lines[:,1][:,1],path[-1][1])[0]\n",
      "                collection.append(path[-2:])\n",
      "                path = path[:-2]\n",
      "\n",
      "    # print path\n",
      "    # collection = []\n",
      "    collection.append(path)\n",
      "    return collection"
     ],
     "language": "python",
     "metadata": {},
     "outputs": [],
     "prompt_number": 11
    },
    {
     "cell_type": "code",
     "collapsed": false,
     "input": [],
     "language": "python",
     "metadata": {},
     "outputs": [],
     "prompt_number": 12
    },
    {
     "cell_type": "code",
     "collapsed": false,
     "input": [],
     "language": "python",
     "metadata": {},
     "outputs": [],
     "prompt_number": 13
    },
    {
     "cell_type": "code",
     "collapsed": false,
     "input": [],
     "language": "python",
     "metadata": {},
     "outputs": [],
     "prompt_number": 18
    },
    {
     "cell_type": "code",
     "collapsed": false,
     "input": [],
     "language": "python",
     "metadata": {},
     "outputs": []
    },
    {
     "cell_type": "code",
     "collapsed": false,
     "input": [],
     "language": "python",
     "metadata": {},
     "outputs": [],
     "prompt_number": 3
    },
    {
     "cell_type": "code",
     "collapsed": false,
     "input": [],
     "language": "python",
     "metadata": {},
     "outputs": []
    }
   ],
   "metadata": {}
  }
 ]
}