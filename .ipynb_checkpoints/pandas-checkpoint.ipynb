{
 "metadata": {
  "name": "",
  "signature": "sha256:dcb30ac6a1d21fc1e429dcdfeaa9a1a27e686dd00a9617c503fa66baf7bb6140"
 },
 "nbformat": 3,
 "nbformat_minor": 0,
 "worksheets": []
}